{
 "cells": [
  {
   "cell_type": "code",
   "execution_count": 1,
   "id": "ffaec68f",
   "metadata": {},
   "outputs": [
    {
     "name": "stdout",
     "output_type": "stream",
     "text": [
      "1.11.0+cu113\n"
     ]
    }
   ],
   "source": [
    "import torch\n",
    "print(torch.__version__)\n",
    "device = torch.device(\"cuda\" if torch.cuda.is_available() else \"cpu\")"
   ]
  },
  {
   "cell_type": "code",
   "execution_count": 2,
   "id": "1a58fc29",
   "metadata": {},
   "outputs": [],
   "source": [
    "import numpy as np\n",
    "import torch\n",
    "import torch.nn as nn\n",
    "from torch_geometric.data import Data\n",
    "import pickle"
   ]
  },
  {
   "cell_type": "code",
   "execution_count": 3,
   "id": "e93d1eb6",
   "metadata": {},
   "outputs": [],
   "source": [
    "# attack_feature = np.array(np.load(\"attack_matrix.npz\",allow_pickle=True)[\"arr_0\"])\n",
    "# normal_feature = np.array(np.load(\"normal_matrix.npz\",allow_pickle=True)[\"arr_0\"])"
   ]
  },
  {
   "cell_type": "code",
   "execution_count": 4,
   "id": "86505b55",
   "metadata": {},
   "outputs": [],
   "source": [
    "attack_feature = np.array(np.load(\"attack_temporal_embedding.npz\",allow_pickle=True)[\"arr_0\"])\n",
    "normal_feature = np.array(np.load(\"normal_temporal_embedding.npz\",allow_pickle=True)[\"arr_0\"])"
   ]
  },
  {
   "cell_type": "code",
   "execution_count": 5,
   "id": "0aba0b75",
   "metadata": {},
   "outputs": [
    {
     "data": {
      "text/plain": [
       "(89978, 51, 6)"
      ]
     },
     "execution_count": 5,
     "metadata": {},
     "output_type": "execute_result"
    }
   ],
   "source": [
    "attack_feature.shape"
   ]
  },
  {
   "cell_type": "code",
   "execution_count": 6,
   "id": "c8fd7313",
   "metadata": {},
   "outputs": [],
   "source": [
    "adjacentMatrix = np.load('adjacentMatrix.npz')\n",
    "adjacentMatrix = np.array(np.load(\"adjacentMatrix.npz\", allow_pickle=True)[\"arr_0\"])"
   ]
  },
  {
   "cell_type": "code",
   "execution_count": 7,
   "id": "b2be8554",
   "metadata": {},
   "outputs": [],
   "source": [
    "attack_tensor= torch.tensor(attack_feature)\n",
    "normal_tensor = torch.tensor(normal_feature)"
   ]
  },
  {
   "cell_type": "code",
   "execution_count": 8,
   "id": "17877638",
   "metadata": {},
   "outputs": [
    {
     "data": {
      "text/plain": [
       "torch.Size([89978, 51, 6])"
      ]
     },
     "execution_count": 8,
     "metadata": {},
     "output_type": "execute_result"
    }
   ],
   "source": [
    "attack_tensor.shape"
   ]
  },
  {
   "cell_type": "code",
   "execution_count": 9,
   "id": "3dfe74f3",
   "metadata": {},
   "outputs": [
    {
     "data": {
      "text/plain": [
       "torch.Size([99354, 51, 6])"
      ]
     },
     "execution_count": 9,
     "metadata": {},
     "output_type": "execute_result"
    }
   ],
   "source": [
    "normal_tensor.shape"
   ]
  },
  {
   "cell_type": "code",
   "execution_count": 10,
   "id": "3f7fdbfa",
   "metadata": {},
   "outputs": [],
   "source": [
    "typeDict = {\n",
    "    0:[0, 8, 17, 27, 38, 39, 40, 41, 47],\n",
    "    1:[1, 18, 28 ],\n",
    "    2:[2, 9, 19, 20, 21, 22 ],\n",
    "    3:[3, 4, 10, 11, 12, 13, 14, 15, 23, 24, 29, 30, 31, 32, 42, 43, 48, 49, 50],\n",
    "    4:[5, 6, 7, 25, 26, 34, 35, 36, 37 ],\n",
    "    5:[16],\n",
    "    6:[33],\n",
    "    7:[44, 45, 46]\n",
    "}"
   ]
  },
  {
   "cell_type": "code",
   "execution_count": 11,
   "id": "ba46011d",
   "metadata": {},
   "outputs": [],
   "source": [
    "def get_sensor_type(val, dict_type):\n",
    "    for sensor_type, sensor_list in dict_type.items():\n",
    "        for sensor in sensor_list: \n",
    "            if val == sensor:\n",
    "                return sensor_type"
   ]
  },
  {
   "cell_type": "code",
   "execution_count": 12,
   "id": "fa8ecaea",
   "metadata": {},
   "outputs": [],
   "source": [
    "def get_index_of_adjacentMatrix(data):\n",
    "    result = []\n",
    "    i_index = []\n",
    "    j_index = []\n",
    "    for i,line in enumerate(data):\n",
    "        for j,item in enumerate(line):\n",
    "            if item != 0:\n",
    "                i_index.append(i)\n",
    "                j_index.append(j)\n",
    "    result.append(i_index)\n",
    "    result.append(j_index)\n",
    "    return result"
   ]
  },
  {
   "cell_type": "code",
   "execution_count": 13,
   "id": "c8aa8bd0",
   "metadata": {},
   "outputs": [],
   "source": [
    "def create_spatio_temporal_embedding(typeDict,\n",
    "                                         adjacentMatrix,\n",
    "                                            embed_collections):\n",
    "    \n",
    "    all_embeds = []\n",
    "    \n",
    "    #get embed for a time segment\n",
    "    for i in range(embed_collections.shape[0]):\n",
    "        temp_embed = embed_collections[i]\n",
    "        temp_embed = torch.squeeze(temp_embed)\n",
    "\n",
    "        if i%10000==0:\n",
    "            print(\"done\", i, \"th graph\")\n",
    "         \n",
    "        #start making clusters and get mean embed\n",
    "        ClusterDict = {}\n",
    "        ClusterDict = dict.fromkeys(typeDict.keys(),[])\n",
    "        for key,value in typeDict.items():\n",
    "            for key_clust in ClusterDict.keys():\n",
    "                if key_clust == key:\n",
    "                    ClusterDict[key_clust] = temp_embed[value,:]\n",
    "                    ClusterDict[key_clust] = torch.mean(ClusterDict[key_clust],0)\n",
    "        \n",
    "        #start calculating similarity between clusters\n",
    "        Distance_Mat = np.zeros((len(ClusterDict), len(ClusterDict)))\n",
    "        \n",
    "        for key in ClusterDict.keys():\n",
    "            for key_2 in ClusterDict.keys():\n",
    "                Distance_Mat[key][key_2] = nn.CosineSimilarity(dim=0, eps=1e-8)(ClusterDict[key],ClusterDict[key_2])\n",
    "        \n",
    "        #start making weighted adj matrix\n",
    "        WeightsOf_AdjMat = np.zeros((51,51))\n",
    "        \n",
    "        for i in range(WeightsOf_AdjMat.shape[0]):\n",
    "            for j in range(WeightsOf_AdjMat.shape[1]):\n",
    "                type_i = get_sensor_type(i, typeDict)\n",
    "                type_j = get_sensor_type(j, typeDict)\n",
    "                WeightsOf_AdjMat[i,j] = Distance_Mat[type_i, type_j]\n",
    "                \n",
    "        Weighted_AdjMat = np.multiply (WeightsOf_AdjMat, adjacentMatrix)\n",
    "        \n",
    "        x = torch.tensor(temp_embed,dtype=torch.float)\n",
    "        edge_index = get_index_of_adjacentMatrix(Weighted_AdjMat) \n",
    "        edge_index = torch.tensor(edge_index,dtype=torch.long)\n",
    "        data = Data(x=x, edge_index=edge_index)\n",
    "        all_embeds.append(data)\n",
    "\n",
    "        \n",
    "    return all_embeds"
   ]
  },
  {
   "cell_type": "code",
   "execution_count": 14,
   "id": "e2da719b",
   "metadata": {},
   "outputs": [
    {
     "name": "stdout",
     "output_type": "stream",
     "text": [
      "done 0 th graph\n"
     ]
    },
    {
     "name": "stderr",
     "output_type": "stream",
     "text": [
      "C:\\Users\\Raiyan\\AppData\\Local\\Temp\\ipykernel_8032\\2401474895.py:42: UserWarning: To copy construct from a tensor, it is recommended to use sourceTensor.clone().detach() or sourceTensor.clone().detach().requires_grad_(True), rather than torch.tensor(sourceTensor).\n",
      "  x = torch.tensor(temp_embed,dtype=torch.float)\n"
     ]
    },
    {
     "name": "stdout",
     "output_type": "stream",
     "text": [
      "done 10000 th graph\n",
      "done 20000 th graph\n",
      "done 30000 th graph\n",
      "done 40000 th graph\n",
      "done 50000 th graph\n",
      "done 60000 th graph\n",
      "done 70000 th graph\n",
      "done 80000 th graph\n",
      "done 0 th graph\n",
      "done 10000 th graph\n",
      "done 20000 th graph\n",
      "done 30000 th graph\n",
      "done 40000 th graph\n",
      "done 50000 th graph\n",
      "done 60000 th graph\n",
      "done 70000 th graph\n",
      "done 80000 th graph\n",
      "done 90000 th graph\n"
     ]
    }
   ],
   "source": [
    "attack_embeddings = create_spatio_temporal_embedding(typeDict,\n",
    "                                        adjacentMatrix, attack_tensor\n",
    "                                        )\n",
    "\n",
    "# with open(\"graph_attack.pkl\",\"wb\") as f:\n",
    "#       pickle.dump(attack_embeddings,f)\n",
    "        \n",
    "\n",
    "normal_embeddings = create_spatio_temporal_embedding(typeDict,\n",
    "                                        adjacentMatrix, normal_tensor\n",
    "                                        )\n",
    "\n",
    "# with open(\"graph_normal.pkl\",\"wb\") as f2:\n",
    "#       pickle.dump(normal_embeddings,f2)\n",
    "\n"
   ]
  },
  {
   "cell_type": "code",
   "execution_count": 27,
   "id": "1a85fbee",
   "metadata": {},
   "outputs": [
    {
     "data": {
      "text/plain": [
       "Data(x=[51, 6], edge_index=[2, 58])"
      ]
     },
     "execution_count": 27,
     "metadata": {},
     "output_type": "execute_result"
    }
   ],
   "source": [
    "normal_embeddings[0]"
   ]
  },
  {
   "cell_type": "code",
   "execution_count": 20,
   "id": "058877cd",
   "metadata": {},
   "outputs": [],
   "source": [
    "# np.savez_compressed(\"normal_spatio_temporal_embeds\",normal_embeddings)\n",
    "# np.savez_compressed(\"attack_spatio_temporal_embeds\",attack_embeddings)"
   ]
  },
  {
   "cell_type": "code",
   "execution_count": 29,
   "id": "324717bc",
   "metadata": {},
   "outputs": [],
   "source": [
    "filename=\"normal_graph_in_pickle_spatial\"\n",
    "with open(filename, 'wb') as f:\n",
    "    pickle.dump(normal_embeddings,f)\n",
    "\n",
    "    \n",
    "filename=\"attack_graph_in_pickle_spatio\"\n",
    "with open(filename, 'wb') as f:\n",
    "    pickle.dump(attack_embeddings,f)"
   ]
  },
  {
   "cell_type": "code",
   "execution_count": 30,
   "id": "ffe89e92",
   "metadata": {},
   "outputs": [
    {
     "data": {
      "text/plain": [
       "Data(x=[51, 6], edge_index=[2, 58])"
      ]
     },
     "execution_count": 30,
     "metadata": {},
     "output_type": "execute_result"
    }
   ],
   "source": [
    "normal_embeddings[1]"
   ]
  },
  {
   "cell_type": "code",
   "execution_count": 31,
   "id": "64812187",
   "metadata": {},
   "outputs": [],
   "source": [
    "import os.path as osp\n",
    "import argparse\n",
    "import torch\n",
    "import torch.nn.functional as F\n",
    "from torch_geometric.data import DataLoader\n",
    "import torch_geometric.transforms as T\n",
    "from torch_geometric.nn import GCNConv, GAE, VGAE\n",
    "import pickle\n",
    "import numpy as np\n",
    "import time"
   ]
  },
  {
   "cell_type": "code",
   "execution_count": 32,
   "id": "c2962b0f",
   "metadata": {},
   "outputs": [
    {
     "name": "stdout",
     "output_type": "stream",
     "text": [
      "start loading data!\n",
      "end load, cost time: 1667827.8024715318\n"
     ]
    }
   ],
   "source": [
    "print(\"start loading data!\")\n",
    "t0 = time.time()\n",
    "normal_dataset = []\n",
    "attack_dataset = []\n",
    "\n",
    "with open(\"normal_graph_in_pickle_spatial\",\"rb\") as f:\n",
    "    normal_dataset = pickle.load(f)    \n",
    "with open(\"attack_graph_in_pickle_spatio\",\"rb\") as f:\n",
    "    attack_dataset = pickle.load(f)\n",
    "    \n",
    "print(\"end load, cost time:\",str(time.time()/1000))"
   ]
  },
  {
   "cell_type": "code",
   "execution_count": 33,
   "id": "cc45fe95",
   "metadata": {},
   "outputs": [
    {
     "data": {
      "text/plain": [
       "99354"
      ]
     },
     "execution_count": 33,
     "metadata": {},
     "output_type": "execute_result"
    }
   ],
   "source": [
    "len(normal_dataset)"
   ]
  },
  {
   "cell_type": "code",
   "execution_count": 34,
   "id": "1712f446",
   "metadata": {},
   "outputs": [],
   "source": [
    "class Encoder(torch.nn.Module):\n",
    "    def __init__(self, in_channels, out_channels):\n",
    "        super(Encoder, self).__init__()\n",
    "        self.conv1 = GCNConv(in_channels, 2 * out_channels)\n",
    "        # if args.model in ['GAE']:\n",
    "        #     self.conv2 = GCNConv(2 * out_channels, out_channels)\n",
    "        # elif args.model in ['VGAE']:\n",
    "        self.conv_mu = GCNConv(2 * out_channels, out_channels)\n",
    "        self.conv_logvar = GCNConv(\n",
    "                2 * out_channels, out_channels)\n",
    "\n",
    "    def forward(self, x, edge_index):\n",
    "        x = F.relu(self.conv1(x, edge_index))\n",
    "        # if args.model in ['GAE']:\n",
    "        #     return self.conv2(x, edge_index)\n",
    "        # elif args.model in ['VGAE']:\n",
    "        return self.conv_mu(x, edge_index), self.conv_logvar(x, edge_index)"
   ]
  },
  {
   "cell_type": "code",
   "execution_count": 35,
   "id": "68c601e8",
   "metadata": {},
   "outputs": [],
   "source": [
    "channels = 16\n",
    "dev = torch.device('cuda' if torch.cuda.is_available() else 'cpu')\n",
    "model = VGAE(Encoder(6, channels)).to(dev)"
   ]
  },
  {
   "cell_type": "code",
   "execution_count": 36,
   "id": "f055eb1d",
   "metadata": {},
   "outputs": [
    {
     "name": "stdout",
     "output_type": "stream",
     "text": [
      "VGAE(\n",
      "  (encoder): Encoder(\n",
      "    (conv1): GCNConv(6, 32)\n",
      "    (conv_mu): GCNConv(32, 16)\n",
      "    (conv_logvar): GCNConv(32, 16)\n",
      "  )\n",
      "  (decoder): InnerProductDecoder()\n",
      ")\n"
     ]
    }
   ],
   "source": [
    "print(model)"
   ]
  },
  {
   "cell_type": "code",
   "execution_count": 37,
   "id": "271c33da",
   "metadata": {},
   "outputs": [],
   "source": [
    "#x, train_pos_edge_index = data.x.to(dev), data.train_pos_edge_index.to(dev)\n",
    "optimizer = torch.optim.Adam(model.parameters(), lr=0.001)\n",
    "\n",
    "normal_loader = DataLoader(normal_dataset, batch_size=64, shuffle=False)\n",
    "attack_loader = DataLoader(attack_dataset, batch_size=64, shuffle=False)\n"
   ]
  },
  {
   "cell_type": "code",
   "execution_count": 38,
   "id": "89d8f99b",
   "metadata": {},
   "outputs": [],
   "source": [
    "def train(data,data_index,epoch):\n",
    "    model.train()\n",
    "    optimizer.zero_grad()\n",
    "    z = model.encode(data.x, data.edge_index)\n",
    "    loss = model.recon_loss(z, data.edge_index)\n",
    "    # if args.model in ['VGAE']:\n",
    "    loss = loss + (1 / data.num_nodes) * model.kl_loss()\n",
    "\n",
    "    if data_index % 1000 == 0:\n",
    "    \tprint(\"epoch:{:03d},batch:{:03d},loss:{:.4f}\".format(epoch,data_index,loss))\n",
    "    loss.backward()\n",
    "    optimizer.step()"
   ]
  },
  {
   "cell_type": "code",
   "execution_count": 39,
   "id": "ccf5b718",
   "metadata": {},
   "outputs": [],
   "source": [
    "def test(data):\n",
    "    model.eval()\n",
    "    with torch.no_grad():\n",
    "        z = model.encode(data.x, data.edge_index)\n",
    "    return z"
   ]
  },
  {
   "cell_type": "code",
   "execution_count": 40,
   "id": "d459f46b",
   "metadata": {
    "scrolled": true
   },
   "outputs": [
    {
     "name": "stdout",
     "output_type": "stream",
     "text": [
      "epoch:000,batch:000,loss:8.2807\n",
      "epoch:000,batch:1000,loss:1.3813\n",
      "epoch:000,batch:000,loss:1.3795\n",
      "epoch:000,batch:1000,loss:1.3825\n",
      "epoch:001,batch:000,loss:1.3799\n",
      "epoch:001,batch:1000,loss:1.3824\n",
      "epoch:001,batch:000,loss:1.3735\n",
      "epoch:001,batch:1000,loss:1.3704\n",
      "epoch:002,batch:000,loss:1.3430\n",
      "epoch:002,batch:1000,loss:1.3671\n",
      "epoch:002,batch:000,loss:1.3474\n",
      "epoch:002,batch:1000,loss:1.3489\n",
      "epoch:003,batch:000,loss:1.3167\n",
      "epoch:003,batch:1000,loss:1.3558\n",
      "epoch:003,batch:000,loss:1.3416\n",
      "epoch:003,batch:1000,loss:1.3372\n",
      "epoch:004,batch:000,loss:1.3223\n",
      "epoch:004,batch:1000,loss:1.3505\n",
      "epoch:004,batch:000,loss:1.3325\n",
      "epoch:004,batch:1000,loss:1.3379\n",
      "epoch:005,batch:000,loss:1.3285\n",
      "epoch:005,batch:1000,loss:1.3490\n",
      "epoch:005,batch:000,loss:1.3431\n",
      "epoch:005,batch:1000,loss:1.3316\n",
      "epoch:006,batch:000,loss:1.3172\n",
      "epoch:006,batch:1000,loss:1.3494\n",
      "epoch:006,batch:000,loss:1.3282\n",
      "epoch:006,batch:1000,loss:1.3374\n",
      "epoch:007,batch:000,loss:1.3234\n",
      "epoch:007,batch:1000,loss:1.3562\n",
      "epoch:007,batch:000,loss:1.3351\n",
      "epoch:007,batch:1000,loss:1.3410\n",
      "epoch:008,batch:000,loss:1.3245\n",
      "epoch:008,batch:1000,loss:1.3516\n",
      "epoch:008,batch:000,loss:1.3302\n",
      "epoch:008,batch:1000,loss:1.3343\n",
      "epoch:009,batch:000,loss:1.3115\n",
      "epoch:009,batch:1000,loss:1.3511\n",
      "epoch:009,batch:000,loss:1.3379\n",
      "epoch:009,batch:1000,loss:1.3324\n"
     ]
    }
   ],
   "source": [
    "#train model \n",
    "for epoch in range(10):\n",
    "    for i,data in enumerate(normal_loader):\n",
    "        # data = np.squeeze(data)\n",
    "        data = data.to(dev)\n",
    "        train(data,i,epoch)\n",
    "        \n",
    "    for i,data in enumerate(attack_loader):\n",
    "        data = data.to(dev)\n",
    "        train(data,i,epoch)\n"
   ]
  },
  {
   "cell_type": "code",
   "execution_count": 41,
   "id": "c06f2c2a",
   "metadata": {},
   "outputs": [],
   "source": [
    "#get normal spatio temporal embedding vector\n",
    "\n",
    "normal_loader_final = DataLoader(normal_dataset, batch_size=1, shuffle=False)\n",
    "attack_loader_final = DataLoader(attack_dataset, batch_size=1, shuffle=False)\n",
    "\n",
    "normal_spatio_temporal_embedding = []\n",
    "for data in normal_loader_final:\n",
    "    data = data.to(dev)\n",
    "    temp = test(data)\n",
    "    normal_spatio_temporal_embedding.append(temp)\n",
    "    \n",
    "\n",
    "#get attack spatio temporal embedding vector\n",
    "attack_spatio_temporal_embedding = []\n",
    "for data in attack_loader_final:\n",
    "    data = data.to(dev)\n",
    "    temp = test(data)\n",
    "    attack_spatio_temporal_embedding.append(temp)   \n"
   ]
  },
  {
   "cell_type": "code",
   "execution_count": 42,
   "id": "f1c7c27f",
   "metadata": {},
   "outputs": [],
   "source": [
    "#go from list of tensors to list of matrix\n",
    "#to compress and save easily\n",
    "\n",
    "normal_spatio_temporal_embedding_matrix=[]\n",
    "\n",
    "for item in normal_spatio_temporal_embedding:\n",
    "    item = item.to(\"cpu\")\n",
    "    item = item.numpy()\n",
    "    normal_spatio_temporal_embedding_matrix.append(item)"
   ]
  },
  {
   "cell_type": "code",
   "execution_count": 43,
   "id": "29e0594d",
   "metadata": {},
   "outputs": [
    {
     "data": {
      "text/plain": [
       "(99354, 51, 16)"
      ]
     },
     "execution_count": 43,
     "metadata": {},
     "output_type": "execute_result"
    }
   ],
   "source": [
    "normal_features = np.asarray(normal_spatio_temporal_embedding_matrix)\n",
    "normal_features.shape"
   ]
  },
  {
   "cell_type": "code",
   "execution_count": 44,
   "id": "18f66afd",
   "metadata": {},
   "outputs": [],
   "source": [
    "attack_spatio_temporal_embedding_matrix=[]\n",
    "\n",
    "for item in attack_spatio_temporal_embedding:\n",
    "    item = item.to(\"cpu\")\n",
    "    item = item.numpy()\n",
    "    attack_spatio_temporal_embedding_matrix.append(item)"
   ]
  },
  {
   "cell_type": "code",
   "execution_count": 45,
   "id": "dff6fd89",
   "metadata": {},
   "outputs": [],
   "source": [
    "attack_features = np.asarray(attack_spatio_temporal_embedding_matrix)"
   ]
  },
  {
   "cell_type": "code",
   "execution_count": 46,
   "id": "6e128c98",
   "metadata": {},
   "outputs": [
    {
     "data": {
      "text/plain": [
       "(89978, 51, 16)"
      ]
     },
     "execution_count": 46,
     "metadata": {},
     "output_type": "execute_result"
    }
   ],
   "source": [
    "attack_features.shape"
   ]
  },
  {
   "cell_type": "code",
   "execution_count": 47,
   "id": "c02107ce",
   "metadata": {},
   "outputs": [],
   "source": [
    "np.savez_compressed(\"normal_spatio_temporal_embeddings\",normal_features)\n",
    "np.savez_compressed(\"attack_spatio_temporal_embeddings\",attack_features)"
   ]
  },
  {
   "cell_type": "code",
   "execution_count": 48,
   "id": "8a321004",
   "metadata": {},
   "outputs": [],
   "source": [
    "###trying to visualize using sklearn seaborn and tsne\n",
    "\n",
    "import seaborn as sns\n",
    "from sklearn import datasets\n",
    "from sklearn import manifold"
   ]
  },
  {
   "cell_type": "code",
   "execution_count": 49,
   "id": "88aa17fc",
   "metadata": {},
   "outputs": [],
   "source": [
    "p = np.mean(normal_features[1], axis=0)"
   ]
  },
  {
   "cell_type": "code",
   "execution_count": 50,
   "id": "e39e691d",
   "metadata": {},
   "outputs": [],
   "source": [
    "attack_temp_feature = np.array(np.load(\"attack_spatio_temporal_embeddings.npz\",allow_pickle=True)[\"arr_0\"])\n",
    "normal_temp_feature = np.array(np.load(\"normal_spatio_temporal_embeddings.npz\",allow_pickle=True)[\"arr_0\"])"
   ]
  },
  {
   "cell_type": "code",
   "execution_count": 51,
   "id": "55c3b0b1",
   "metadata": {},
   "outputs": [],
   "source": [
    "normal_mean_features=np.mean(normal_temp_feature, axis=1)\n",
    "\n",
    "# for i in range(normal_temp_feature.shape[0]):\n",
    "#     temp = np.mean(normal_temp_feature[i], axis=0)\n",
    "#     normal_mean_features.append(temp)"
   ]
  },
  {
   "cell_type": "code",
   "execution_count": 52,
   "id": "e225e463",
   "metadata": {},
   "outputs": [],
   "source": [
    "# normal_mean_features = np.asarray(normal_mean_features)"
   ]
  },
  {
   "cell_type": "code",
   "execution_count": 53,
   "id": "506b803f",
   "metadata": {},
   "outputs": [
    {
     "data": {
      "text/plain": [
       "(99354, 16)"
      ]
     },
     "execution_count": 53,
     "metadata": {},
     "output_type": "execute_result"
    }
   ],
   "source": [
    "normal_mean_features.shape"
   ]
  },
  {
   "cell_type": "code",
   "execution_count": 54,
   "id": "650f1171",
   "metadata": {},
   "outputs": [],
   "source": [
    "attack_mean_features=np.mean(attack_temp_feature, axis=1)\n",
    "\n",
    "# for i in range(attack_temp_feature.shape[0]):\n",
    "#     temp = np.mean(attack_temp_feature[i], axis=0)\n",
    "#     attack_mean_features.append(temp)"
   ]
  },
  {
   "cell_type": "code",
   "execution_count": 55,
   "id": "20560127",
   "metadata": {},
   "outputs": [],
   "source": [
    "# attack_mean_features = np.asarray(attack_mean_features)\n",
    "# attack_mean_features.shape"
   ]
  },
  {
   "cell_type": "code",
   "execution_count": 56,
   "id": "29d19b2a",
   "metadata": {},
   "outputs": [
    {
     "name": "stderr",
     "output_type": "stream",
     "text": [
      "C:\\Users\\Raiyan\\AppData\\Roaming\\Python\\Python310\\site-packages\\sklearn\\manifold\\_t_sne.py:795: FutureWarning: The default initialization in TSNE will change from 'random' to 'pca' in 1.2.\n",
      "  warnings.warn(\n",
      "C:\\Users\\Raiyan\\AppData\\Roaming\\Python\\Python310\\site-packages\\sklearn\\manifold\\_t_sne.py:805: FutureWarning: The default learning rate in TSNE will change from 200.0 to 'auto' in 1.2.\n",
      "  warnings.warn(\n"
     ]
    }
   ],
   "source": [
    "# dimensionality reduction using t-SNE\n",
    "tsne = manifold.TSNE(n_components=2, random_state=42)\n",
    "\n",
    "# fit and transform\n",
    "normal_tsne = tsne.fit_transform(normal_mean_features)\n",
    "\n",
    "# transformed_data is a 2D numpy array of shape (99353, 3)"
   ]
  },
  {
   "cell_type": "code",
   "execution_count": 57,
   "id": "9e6287b3",
   "metadata": {},
   "outputs": [
    {
     "data": {
      "text/plain": [
       "(99354, 2)"
      ]
     },
     "execution_count": 57,
     "metadata": {},
     "output_type": "execute_result"
    }
   ],
   "source": [
    "normal_tsne.shape"
   ]
  },
  {
   "cell_type": "code",
   "execution_count": 58,
   "id": "40cf63c1",
   "metadata": {},
   "outputs": [
    {
     "data": {
      "text/plain": [
       "array([-51.097355,  12.165639], dtype=float32)"
      ]
     },
     "execution_count": 58,
     "metadata": {},
     "output_type": "execute_result"
    }
   ],
   "source": [
    "normal_tsne[0]"
   ]
  },
  {
   "cell_type": "code",
   "execution_count": 59,
   "id": "5f72ed3f",
   "metadata": {},
   "outputs": [
    {
     "data": {
      "text/html": [
       "<div>\n",
       "<style scoped>\n",
       "    .dataframe tbody tr th:only-of-type {\n",
       "        vertical-align: middle;\n",
       "    }\n",
       "\n",
       "    .dataframe tbody tr th {\n",
       "        vertical-align: top;\n",
       "    }\n",
       "\n",
       "    .dataframe thead th {\n",
       "        text-align: right;\n",
       "    }\n",
       "</style>\n",
       "<table border=\"1\" class=\"dataframe\">\n",
       "  <thead>\n",
       "    <tr style=\"text-align: right;\">\n",
       "      <th></th>\n",
       "      <th>CP1</th>\n",
       "      <th>CP2</th>\n",
       "    </tr>\n",
       "  </thead>\n",
       "  <tbody>\n",
       "    <tr>\n",
       "      <th>0</th>\n",
       "      <td>-51.097355</td>\n",
       "      <td>12.165639</td>\n",
       "    </tr>\n",
       "    <tr>\n",
       "      <th>1</th>\n",
       "      <td>-51.101841</td>\n",
       "      <td>12.149138</td>\n",
       "    </tr>\n",
       "    <tr>\n",
       "      <th>2</th>\n",
       "      <td>-51.103657</td>\n",
       "      <td>12.142260</td>\n",
       "    </tr>\n",
       "    <tr>\n",
       "      <th>3</th>\n",
       "      <td>-51.104458</td>\n",
       "      <td>12.139239</td>\n",
       "    </tr>\n",
       "    <tr>\n",
       "      <th>4</th>\n",
       "      <td>-51.106541</td>\n",
       "      <td>12.131427</td>\n",
       "    </tr>\n",
       "  </tbody>\n",
       "</table>\n",
       "</div>"
      ],
      "text/plain": [
       "         CP1        CP2\n",
       "0 -51.097355  12.165639\n",
       "1 -51.101841  12.149138\n",
       "2 -51.103657  12.142260\n",
       "3 -51.104458  12.139239\n",
       "4 -51.106541  12.131427"
      ]
     },
     "execution_count": 59,
     "metadata": {},
     "output_type": "execute_result"
    }
   ],
   "source": [
    "import pandas as pd\n",
    "normal_df = pd.DataFrame(columns=['CP1', 'CP2'],\n",
    "                       data=np.row_stack(normal_tsne))\n",
    "normal_df.head()"
   ]
  },
  {
   "cell_type": "code",
   "execution_count": 60,
   "id": "432c0c9c",
   "metadata": {},
   "outputs": [
    {
     "name": "stderr",
     "output_type": "stream",
     "text": [
      "C:\\Users\\Raiyan\\AppData\\Roaming\\Python\\Python310\\site-packages\\sklearn\\manifold\\_t_sne.py:795: FutureWarning: The default initialization in TSNE will change from 'random' to 'pca' in 1.2.\n",
      "  warnings.warn(\n",
      "C:\\Users\\Raiyan\\AppData\\Roaming\\Python\\Python310\\site-packages\\sklearn\\manifold\\_t_sne.py:805: FutureWarning: The default learning rate in TSNE will change from 200.0 to 'auto' in 1.2.\n",
      "  warnings.warn(\n"
     ]
    },
    {
     "data": {
      "text/plain": [
       "(89978, 2)"
      ]
     },
     "execution_count": 60,
     "metadata": {},
     "output_type": "execute_result"
    }
   ],
   "source": [
    "tsne = manifold.TSNE(n_components=2, random_state=42)\n",
    "\n",
    "# fit and transform\n",
    "attack_tsne = tsne.fit_transform(attack_mean_features)\n",
    "\n",
    "attack_tsne.shape"
   ]
  },
  {
   "cell_type": "code",
   "execution_count": 61,
   "id": "6efb9c24",
   "metadata": {},
   "outputs": [],
   "source": [
    "attack_target_label = np.array(np.load('newlabel_swat.npz')['arr_0'])"
   ]
  },
  {
   "cell_type": "code",
   "execution_count": 62,
   "id": "ef7a434c",
   "metadata": {},
   "outputs": [],
   "source": [
    "attack_target_label = np.reshape(attack_target_label, (attack_target_label.shape[0],1))"
   ]
  },
  {
   "cell_type": "code",
   "execution_count": 63,
   "id": "19683cc3",
   "metadata": {},
   "outputs": [
    {
     "data": {
      "text/plain": [
       "(89978, 3)"
      ]
     },
     "execution_count": 63,
     "metadata": {},
     "output_type": "execute_result"
    }
   ],
   "source": [
    "attack_tsne_with_target = np.append(attack_tsne, attack_target_label, 1)\n",
    "attack_tsne_with_target.shape"
   ]
  },
  {
   "cell_type": "code",
   "execution_count": 64,
   "id": "632ff03a",
   "metadata": {},
   "outputs": [
    {
     "data": {
      "text/html": [
       "<div>\n",
       "<style scoped>\n",
       "    .dataframe tbody tr th:only-of-type {\n",
       "        vertical-align: middle;\n",
       "    }\n",
       "\n",
       "    .dataframe tbody tr th {\n",
       "        vertical-align: top;\n",
       "    }\n",
       "\n",
       "    .dataframe thead th {\n",
       "        text-align: right;\n",
       "    }\n",
       "</style>\n",
       "<table border=\"1\" class=\"dataframe\">\n",
       "  <thead>\n",
       "    <tr style=\"text-align: right;\">\n",
       "      <th></th>\n",
       "      <th>CP1</th>\n",
       "      <th>CP2</th>\n",
       "      <th>target</th>\n",
       "    </tr>\n",
       "  </thead>\n",
       "  <tbody>\n",
       "    <tr>\n",
       "      <th>0</th>\n",
       "      <td>36.661263</td>\n",
       "      <td>14.684780</td>\n",
       "      <td>0</td>\n",
       "    </tr>\n",
       "    <tr>\n",
       "      <th>1</th>\n",
       "      <td>30.767288</td>\n",
       "      <td>19.849092</td>\n",
       "      <td>0</td>\n",
       "    </tr>\n",
       "    <tr>\n",
       "      <th>2</th>\n",
       "      <td>29.848692</td>\n",
       "      <td>20.427111</td>\n",
       "      <td>0</td>\n",
       "    </tr>\n",
       "    <tr>\n",
       "      <th>3</th>\n",
       "      <td>28.475668</td>\n",
       "      <td>21.232000</td>\n",
       "      <td>0</td>\n",
       "    </tr>\n",
       "    <tr>\n",
       "      <th>4</th>\n",
       "      <td>30.125591</td>\n",
       "      <td>20.116507</td>\n",
       "      <td>0</td>\n",
       "    </tr>\n",
       "  </tbody>\n",
       "</table>\n",
       "</div>"
      ],
      "text/plain": [
       "         CP1        CP2  target\n",
       "0  36.661263  14.684780       0\n",
       "1  30.767288  19.849092       0\n",
       "2  29.848692  20.427111       0\n",
       "3  28.475668  21.232000       0\n",
       "4  30.125591  20.116507       0"
      ]
     },
     "execution_count": 64,
     "metadata": {},
     "output_type": "execute_result"
    }
   ],
   "source": [
    "attack_df = pd.DataFrame(columns=['CP1', 'CP2', 'target'],\n",
    "                       data=np.row_stack(attack_tsne_with_target))\n",
    "\n",
    "attack_df.loc[:, 'target'] = attack_df.target.astype(int)\n",
    "attack_df.head()"
   ]
  },
  {
   "cell_type": "code",
   "execution_count": 65,
   "id": "31a017e0",
   "metadata": {},
   "outputs": [],
   "source": [
    "attack_map = {0:'Not attack',\n",
    "               1: 'Attack'}# map targets to actual clothes for plotting\n",
    "attack_df.loc[:, 'target'] = attack_df.target.map(attack_map)"
   ]
  },
  {
   "cell_type": "code",
   "execution_count": 66,
   "id": "77082e07",
   "metadata": {},
   "outputs": [
    {
     "data": {
      "text/plain": [
       "<AxesSubplot:>"
      ]
     },
     "execution_count": 66,
     "metadata": {},
     "output_type": "execute_result"
    },
    {
     "data": {
      "image/png": "[encoded data removed]",
      "text/plain": [
       "<Figure size 432x288 with 1 Axes>"
      ]
     },
     "metadata": {
      "needs_background": "light"
     },
     "output_type": "display_data"
    }
   ],
   "source": [
    "attack_df.target.value_counts().plot(kind='bar')"
   ]
  },
  {
   "cell_type": "code",
   "execution_count": 67,
   "id": "e3409c12",
   "metadata": {},
   "outputs": [],
   "source": [
    "attack_new_df = attack_df.groupby('target').sample(n=4000)"
   ]
  },
  {
   "cell_type": "code",
   "execution_count": 68,
   "id": "13241d11",
   "metadata": {},
   "outputs": [
    {
     "data": {
      "text/plain": [
       "<AxesSubplot:>"
      ]
     },
     "execution_count": 68,
     "metadata": {},
     "output_type": "execute_result"
    },
    {
     "data": {
      "image/png": "[encoded data removed]",
      "text/plain": [
       "<Figure size 432x288 with 1 Axes>"
      ]
     },
     "metadata": {
      "needs_background": "light"
     },
     "output_type": "display_data"
    }
   ],
   "source": [
    "attack_new_df.target.value_counts().plot(kind='bar')"
   ]
  },
  {
   "cell_type": "code",
   "execution_count": 69,
   "id": "093c95c9",
   "metadata": {},
   "outputs": [
    {
     "data": {
      "text/plain": [
       "<seaborn.axisgrid.FacetGrid at 0x209a6e79930>"
      ]
     },
     "execution_count": 69,
     "metadata": {},
     "output_type": "execute_result"
    },
    {
     "data": {
      "image/png": "[encoded data removed]",
      "text/plain": [
       "<Figure size 807.75x720 with 1 Axes>"
      ]
     },
     "metadata": {
      "needs_background": "light"
     },
     "output_type": "display_data"
    }
   ],
   "source": [
    "import matplotlib.pyplot as plt\n",
    "\n",
    "grid = sns.FacetGrid(attack_new_df, hue=\"target\", height=10)\n",
    "grid.map(plt.scatter, 'CP1', 'CP2').add_legend()"
   ]
  },
  {
   "cell_type": "code",
   "execution_count": null,
   "id": "a899f907",
   "metadata": {},
   "outputs": [],
   "source": [
    "# pip install plotly"
   ]
  },
  {
   "cell_type": "code",
   "execution_count": null,
   "id": "2703e6b1",
   "metadata": {},
   "outputs": [],
   "source": [
    "import plotly.express as px"
   ]
  },
  {
   "cell_type": "code",
   "execution_count": null,
   "id": "5e55cee5",
   "metadata": {},
   "outputs": [],
   "source": [
    "x = attack_new_df['CP1']\n",
    "y = attack_new_df['CP2']\n",
    "# z = attack_new_df['CP3']\n",
    "fig = px.scatter(attack_new_df, x, y,\n",
    "              color= attack_new_df['target'])\n",
    "fig.show()"
   ]
  },
  {
   "cell_type": "code",
   "execution_count": null,
   "id": "a50efaaa",
   "metadata": {},
   "outputs": [],
   "source": [
    "data = pd.read_hdf(\"attack.h5\")\n",
    "attack_label = data['isAttack'].to_numpy()"
   ]
  },
  {
   "cell_type": "code",
   "execution_count": null,
   "id": "43105ef7",
   "metadata": {},
   "outputs": [],
   "source": [
    "attack_label.shape[0]"
   ]
  },
  {
   "cell_type": "code",
   "execution_count": null,
   "id": "5a4cdae5",
   "metadata": {},
   "outputs": [],
   "source": [
    "attack_label"
   ]
  },
  {
   "cell_type": "code",
   "execution_count": null,
   "id": "97f25c5c",
   "metadata": {},
   "outputs": [],
   "source": [
    "attack_target_label = []\n",
    "flag = 0\n",
    "\n",
    "for i in range(0,attack_label.shape[0]-1,5):\n",
    "#     first_index = i\n",
    "#     last_index = i+25\n",
    "#     print(first_index, last_index)\n",
    "    temp_list = (attack_label[i:i+25]) \n",
    "    for item in temp_list:\n",
    "        if item == 1:\n",
    "            flag = 1\n",
    "    attack_target_label.append(flag)\n",
    "    flag = 0"
   ]
  },
  {
   "cell_type": "code",
   "execution_count": null,
   "id": "2e2d1ea5",
   "metadata": {},
   "outputs": [],
   "source": [
    "len(attack_target_label)"
   ]
  },
  {
   "cell_type": "code",
   "execution_count": null,
   "id": "e21fd4af",
   "metadata": {},
   "outputs": [],
   "source": [
    "attack_target_label = np.asarray(attack_target_label)"
   ]
  },
  {
   "cell_type": "code",
   "execution_count": null,
   "id": "c4718ea3",
   "metadata": {},
   "outputs": [],
   "source": [
    "attack_target_label = attack_target_label[:, np.newaxis]"
   ]
  },
  {
   "cell_type": "code",
   "execution_count": null,
   "id": "93136245",
   "metadata": {},
   "outputs": [],
   "source": [
    "attack_target_label.shape"
   ]
  },
  {
   "cell_type": "code",
   "execution_count": null,
   "id": "944eb2e0",
   "metadata": {},
   "outputs": [],
   "source": [
    "c.shape"
   ]
  },
  {
   "cell_type": "code",
   "execution_count": null,
   "id": "d114c9f4",
   "metadata": {},
   "outputs": [],
   "source": [
    "attack_tsne.shape"
   ]
  },
  {
   "cell_type": "code",
   "execution_count": null,
   "id": "7a2aa371",
   "metadata": {},
   "outputs": [],
   "source": [
    "type(attack_features)"
   ]
  },
  {
   "cell_type": "code",
   "execution_count": null,
   "id": "0aa1542e",
   "metadata": {},
   "outputs": [],
   "source": [
    "attack_features.shape"
   ]
  },
  {
   "cell_type": "code",
   "execution_count": null,
   "id": "f2b464cb",
   "metadata": {},
   "outputs": [],
   "source": [
    "results = np.where(attack_target_label==1)"
   ]
  },
  {
   "cell_type": "code",
   "execution_count": null,
   "id": "70e9d4ef",
   "metadata": {},
   "outputs": [],
   "source": [
    "results"
   ]
  },
  {
   "cell_type": "code",
   "execution_count": null,
   "id": "5b0ce61e",
   "metadata": {},
   "outputs": [],
   "source": [
    "p = attack_mean_features[89030]\n",
    "p = torch.from_numpy(p)\n",
    "p.shape"
   ]
  },
  {
   "cell_type": "code",
   "execution_count": null,
   "id": "e3e1610e",
   "metadata": {},
   "outputs": [],
   "source": [
    "p"
   ]
  },
  {
   "cell_type": "code",
   "execution_count": null,
   "id": "4db86385",
   "metadata": {},
   "outputs": [],
   "source": [
    "q = attack_mean_features[89189]\n",
    "q = torch.from_numpy(q)\n",
    "q.shape"
   ]
  },
  {
   "cell_type": "code",
   "execution_count": null,
   "id": "abe85e4c",
   "metadata": {},
   "outputs": [],
   "source": [
    "opps = nn.CosineSimilarity(dim=0, eps=1e-8)(p,q)\n",
    "opps"
   ]
  },
  {
   "cell_type": "code",
   "execution_count": null,
   "id": "581ea52a",
   "metadata": {},
   "outputs": [],
   "source": [
    "dist_opps = torch.cdist(p.reshape(1,16), q.reshape(1,16), p=15)\n",
    "dist_opps"
   ]
  },
  {
   "cell_type": "code",
   "execution_count": null,
   "id": "5f486c97",
   "metadata": {},
   "outputs": [],
   "source": [
    "m= attack_mean_features[89036]\n",
    "m= torch.from_numpy(m)"
   ]
  },
  {
   "cell_type": "code",
   "execution_count": null,
   "id": "ea357e7c",
   "metadata": {},
   "outputs": [],
   "source": [
    "sim = nn.CosineSimilarity(dim=0, eps=1e-8)(p,m)"
   ]
  },
  {
   "cell_type": "code",
   "execution_count": null,
   "id": "886a79b8",
   "metadata": {},
   "outputs": [],
   "source": [
    "sim"
   ]
  },
  {
   "cell_type": "code",
   "execution_count": null,
   "id": "70efe888",
   "metadata": {},
   "outputs": [],
   "source": [
    "another_opps = nn.CosineSimilarity(dim=0, eps=1e-8)(q,m)\n",
    "another_opps\n",
    "\n",
    "dist_opps = torch.cdist(m.reshape(1,16), q.reshape(1,16))\n",
    "dist_opps"
   ]
  },
  {
   "cell_type": "code",
   "execution_count": null,
   "id": "499e29bb",
   "metadata": {},
   "outputs": [],
   "source": [
    "dist_sim = torch.cdist(p.reshape(1,16), m.reshape(1,16), p= 15)\n",
    "dist_sim"
   ]
  },
  {
   "cell_type": "code",
   "execution_count": null,
   "id": "d07511e4",
   "metadata": {},
   "outputs": [],
   "source": [
    "tuple([5])"
   ]
  },
  {
   "cell_type": "code",
   "execution_count": null,
   "id": "bd0b1bed",
   "metadata": {},
   "outputs": [],
   "source": []
  }
 ],
 "metadata": {
  "kernelspec": {
   "display_name": "Python 3 (ipykernel)",
   "language": "python",
   "name": "python3"
  },
  "language_info": {
   "codemirror_mode": {
    "name": "ipython",
    "version": 3
   },
   "file_extension": ".py",
   "mimetype": "text/x-python",
   "name": "python",
   "nbconvert_exporter": "python",
   "pygments_lexer": "ipython3",
   "version": "3.10.4"
  }
 },
 "nbformat": 4,
 "nbformat_minor": 5
}
