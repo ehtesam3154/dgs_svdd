{
 "cells": [
  {
   "cell_type": "code",
   "execution_count": 1,
   "id": "0cedd939",
   "metadata": {},
   "outputs": [],
   "source": [
    "import numpy as np\n",
    "import pandas as pd\n",
    "import torch"
   ]
  },
  {
   "cell_type": "code",
   "execution_count": 2,
   "id": "6232ceca",
   "metadata": {},
   "outputs": [],
   "source": [
    "# attack_feature = np.array(np.load(\"attack_temporal_embedding.npz\", allow_pickle=True)[\"arr_0\"])\n",
    "# normal_feature = np.array(np.load(\"normal_temporal_embedding.npz\", allow_pickle= True)[\"arr_0\"])"
   ]
  },
  {
   "cell_type": "code",
   "execution_count": 3,
   "id": "1beb6f83",
   "metadata": {},
   "outputs": [],
   "source": [
    "attack_feature = np.array(np.load(\"attack_spatio_temporal_embeddings.npz\", allow_pickle=True)[\"arr_0\"])\n",
    "normal_feature = np.array(np.load(\"normal_spatio_temporal_embeddings.npz\", allow_pickle= True)[\"arr_0\"])\n",
    "\n",
    "# attack_feature = np.array(np.load(\"attack_spatial_embeddings.npz\", allow_pickle=True)[\"arr_0\"])\n",
    "# normal_feature = np.array(np.load(\"normal_spatial_embeddings.npz\", allow_pickle= True)[\"arr_0\"])\n",
    "\n",
    "# attack_feature = np.array(np.load(\"attack_matrix.npz\", allow_pickle=True)[\"arr_0\"])\n",
    "# normal_feature = np.array(np.load(\"normal_matrix.npz\", allow_pickle= True)[\"arr_0\"])\n",
    "\n",
    "# attack_feature = np.array(np.load(\"no_cluster_attack_spatio_temporal_embeddings.npz\", allow_pickle=True)[\"arr_0\"])\n",
    "# normal_feature = np.array(np.load(\"no_cluster_normal_spatio_temporal_embeddings.npz\", allow_pickle= True)[\"arr_0\"])"
   ]
  },
  {
   "cell_type": "code",
   "execution_count": 4,
   "id": "1588471c",
   "metadata": {},
   "outputs": [],
   "source": [
    "attack_target_label =  np.array(np.load(\"newlabel_swat.npz\")[\"arr_0\"])"
   ]
  },
  {
   "cell_type": "code",
   "execution_count": 5,
   "id": "379ceb82",
   "metadata": {},
   "outputs": [],
   "source": [
    "p = np.where(attack_target_label==1)"
   ]
  },
  {
   "cell_type": "code",
   "execution_count": 6,
   "id": "b9d2ca09",
   "metadata": {},
   "outputs": [
    {
     "data": {
      "text/plain": [
       "(10942,)"
      ]
     },
     "execution_count": 6,
     "metadata": {},
     "output_type": "execute_result"
    }
   ],
   "source": [
    "p[0].shape"
   ]
  },
  {
   "cell_type": "code",
   "execution_count": 7,
   "id": "aa642bae",
   "metadata": {},
   "outputs": [
    {
     "data": {
      "text/plain": [
       "(89978, 51, 16)"
      ]
     },
     "execution_count": 7,
     "metadata": {},
     "output_type": "execute_result"
    }
   ],
   "source": [
    "attack_feature.shape"
   ]
  },
  {
   "cell_type": "code",
   "execution_count": 8,
   "id": "81ca25fc",
   "metadata": {},
   "outputs": [],
   "source": [
    "def norm(x):\n",
    "    return (x- torch.min(x)) / (torch.max(x)- torch.min(x))"
   ]
  },
  {
   "cell_type": "code",
   "execution_count": 9,
   "id": "a76fc854",
   "metadata": {},
   "outputs": [],
   "source": [
    "import torch\n",
    "from torch.utils.data import TensorDataset, DataLoader"
   ]
  },
  {
   "cell_type": "code",
   "execution_count": 10,
   "id": "b94fe714",
   "metadata": {},
   "outputs": [],
   "source": [
    "normal_target_label = np.zeros(normal_feature.shape[0])\n",
    "normal_feature_tensor = torch.Tensor(normal_feature)\n",
    "# normal_feature_tensor = norm(normal_feature_tensor)\n",
    "normal_feature_tensor = torch.unsqueeze(normal_feature_tensor, 1)\n",
    "normal_label_tensor = torch.Tensor(normal_target_label)\n",
    "\n",
    "normal_dataset = TensorDataset(normal_feature_tensor, normal_label_tensor)\n",
    "normal_dataloader = DataLoader(normal_dataset, batch_size=300, shuffle=False)\n",
    "\n",
    "attack_feature_tensor = torch.Tensor(attack_feature)\n",
    "# attack_feature_tensor = norm(attack_feature_tensor)\n",
    "attack_feature_tensor = torch.unsqueeze(attack_feature_tensor, 1)\n",
    "attack_label_tensor = torch.Tensor(attack_target_label)\n",
    "\n",
    "attack_dataset = TensorDataset(attack_feature_tensor, attack_label_tensor)\n",
    "attack_dataloader = DataLoader(attack_dataset, batch_size=300, shuffle=False)\n"
   ]
  },
  {
   "cell_type": "code",
   "execution_count": 11,
   "id": "54d40a04",
   "metadata": {},
   "outputs": [],
   "source": [
    "attack_pos = []\n",
    "i = 0\n",
    "# for i in range(0, attack_target_label.shape[0], end):\n",
    "while i< attack_target_label.shape[0]:\n",
    "    attack_index = []\n",
    "    if attack_target_label[i] == 1:\n",
    "        init = i\n",
    "        attack_index.append(init)\n",
    "        j = i+1\n",
    "        while attack_target_label[j] == 1:\n",
    "            j = j+1\n",
    "        else:\n",
    "            end = j-1\n",
    "        attack_index.append(end)\n",
    "        attack_pos.append(attack_index)\n",
    "        i = end+1\n",
    "    else:\n",
    "        i += 1"
   ]
  },
  {
   "cell_type": "code",
   "execution_count": 12,
   "id": "71a6a1e7",
   "metadata": {},
   "outputs": [
    {
     "data": {
      "text/plain": [
       "[[346, 538],\n",
       " [609, 702],\n",
       " [980, 1060],\n",
       " [1287, 1369],\n",
       " [1447, 1490],\n",
       " [1537, 1626],\n",
       " [2278, 2474],\n",
       " [3072, 3220],\n",
       " [18133, 18183],\n",
       " [18424, 18514],\n",
       " [18685, 18744],\n",
       " [20614, 20761],\n",
       " [23164, 23220],\n",
       " [23224, 23307],\n",
       " [23396, 23544],\n",
       " [26579, 26676],\n",
       " [28586, 28730],\n",
       " [34449, 34517],\n",
       " [34578, 34704],\n",
       " [39655, 39948],\n",
       " [45561, 52745],\n",
       " [55820, 55848],\n",
       " [56008, 56246],\n",
       " [60526, 60603],\n",
       " [69531, 69655],\n",
       " [72234, 72326],\n",
       " [74291, 74315],\n",
       " [74367, 74467],\n",
       " [77932, 78043],\n",
       " [87304, 87401],\n",
       " [87479, 87539],\n",
       " [87625, 87709],\n",
       " [87720, 87783],\n",
       " [88696, 89038]]"
      ]
     },
     "execution_count": 12,
     "metadata": {},
     "output_type": "execute_result"
    }
   ],
   "source": [
    "attack_pos"
   ]
  },
  {
   "cell_type": "code",
   "execution_count": 13,
   "id": "fa88a728",
   "metadata": {},
   "outputs": [
    {
     "data": {
      "text/plain": [
       "torch.Size([89978, 1, 51, 16])"
      ]
     },
     "execution_count": 13,
     "metadata": {},
     "output_type": "execute_result"
    }
   ],
   "source": [
    "attack_feature_tensor.shape"
   ]
  },
  {
   "cell_type": "code",
   "execution_count": 14,
   "id": "36e509f0",
   "metadata": {},
   "outputs": [],
   "source": [
    "import torch\n",
    "import numpy as np\n",
    "\n",
    "def weights_init_normal(m):\n",
    "    classname = m.__class__.__name__\n",
    "    if classname.find(\"Conv\") != -1 and classname != 'Conv':\n",
    "        torch.nn.init.normal_(m.weight.data, 0.0, 0.02)\n",
    "    elif classname.find(\"Linear\") != -1:\n",
    "        torch.nn.init.normal_(m.weight.data, 0.0, 0.02)"
   ]
  },
  {
   "cell_type": "code",
   "execution_count": 15,
   "id": "0677ceb4",
   "metadata": {},
   "outputs": [],
   "source": [
    "import torch.nn as nn\n",
    "import torch.nn.functional as F"
   ]
  },
  {
   "cell_type": "code",
   "execution_count": 16,
   "id": "8c6c9165",
   "metadata": {},
   "outputs": [],
   "source": [
    "class network(nn.Module):\n",
    "    def __init__(self, z_dim=64):\n",
    "        super(network, self).__init__()\n",
    "        self.pool = nn.AvgPool2d(2, 2)\n",
    "\n",
    "        self.conv1 = nn.Conv2d(1, 8, (5,3), bias=False, padding=2)\n",
    "        self.bn1 = nn.BatchNorm2d(8, eps=1e-04, affine=False)\n",
    "        self.conv2 = nn.Conv2d(8, 4, (5,3), bias=False, padding=2)\n",
    "        self.bn2 = nn.BatchNorm2d(4, eps=1e-04, affine=False)\n",
    "        self.fc1 = nn.Linear(240, z_dim, bias=False)\n",
    "\n",
    "    def forward(self, x):\n",
    "        x = self.conv1(x)\n",
    "        x = self.pool(F.leaky_relu(self.bn1(x)))\n",
    "        x = self.conv2(x)\n",
    "        x = self.pool(F.leaky_relu(self.bn2(x)))\n",
    "        x = x.view(x.size(0), -1)\n",
    "        return self.fc1(x)"
   ]
  },
  {
   "cell_type": "code",
   "execution_count": 17,
   "id": "1bf137b9",
   "metadata": {},
   "outputs": [],
   "source": [
    "class autoencoder(nn.Module):\n",
    "    def __init__(self, z_dim=64):\n",
    "        super(autoencoder, self).__init__()\n",
    "        self.z_dim = z_dim\n",
    "        self.pool = nn.AvgPool2d(2,2)\n",
    "\n",
    "        self.conv1 = nn.Conv2d(1, 8, (5,3), bias=False, padding=2)\n",
    "        self.bn1 = nn.BatchNorm2d(8, eps=1e-04, affine=False)\n",
    "        self.conv2 = nn.Conv2d(8, 4, (5,3), bias=False, padding=2)\n",
    "        self.bn2 = nn.BatchNorm2d(4, eps=1e-04, affine=False)\n",
    "        self.fc1 = nn.Linear(240, z_dim, bias=False)\n",
    "\n",
    "        self.deconv1 = nn.ConvTranspose2d(4, 8, (3,5), bias=False, padding=2)\n",
    "        self.bn3 = nn.BatchNorm2d(8, eps=1e-04, affine=False)\n",
    "        self.deconv2 = nn.ConvTranspose2d(8, 8, (3,5), bias=False, padding=2)\n",
    "        self.bn4 = nn.BatchNorm2d(8, eps=1e-04, affine=False)\n",
    "        self.deconv3 = nn.ConvTranspose2d(8, 1, (2,5), bias=False, padding=(1,2))\n",
    "        \n",
    "    def encode(self, x):\n",
    "        x = self.conv1(x)\n",
    "        x = self.pool(F.leaky_relu(self.bn1(x)))\n",
    "        x = self.conv2(x)\n",
    "        x = self.pool(F.leaky_relu(self.bn2(x)))\n",
    "        x = x.view(x.size(0), -1)\n",
    "        return self.fc1(x)\n",
    "   \n",
    "    def decode(self, x):\n",
    "        x = x.view(x.size(0), int(self.z_dim / 16), 8, 2)\n",
    "        x = F.interpolate(F.leaky_relu(x), scale_factor=2)\n",
    "        x = self.deconv1(x)\n",
    "        x = F.interpolate(F.leaky_relu(self.bn3(x)), scale_factor=2)\n",
    "        x = self.deconv2(x)\n",
    "        x = F.interpolate(F.leaky_relu(self.bn4(x)), scale_factor=2)\n",
    "        x = self.deconv3(x)\n",
    "        return torch.sigmoid(x)\n",
    "        \n",
    "\n",
    "    def forward(self, x):\n",
    "        z = self.encode(x)\n",
    "        x_hat = self.decode(z)\n",
    "        return x_hat"
   ]
  },
  {
   "cell_type": "code",
   "execution_count": 25,
   "id": "cdfed2ad",
   "metadata": {},
   "outputs": [],
   "source": [
    "from torch import optim\n",
    "import torch.nn.functional as F\n",
    "from barbar import Bar\n",
    "\n",
    "\n",
    "class TrainerDeepSVDD:\n",
    "    def __init__(self, args, data, device):\n",
    "        self.args = args\n",
    "        self.train_loader, self.test_loader = data\n",
    "        self.device = device\n",
    "    \n",
    "\n",
    "    def pretrain(self):\n",
    "        \"\"\" Pretraining the weights for the deep SVDD network using autoencoder\"\"\"\n",
    "        ae = autoencoder(self.args.latent_dim).to(self.device)\n",
    "        ae.apply(weights_init_normal)\n",
    "        optimizer = optim.Adam(ae.parameters(), lr=self.args.lr_ae,\n",
    "                               weight_decay=self.args.weight_decay_ae)\n",
    "        scheduler = optim.lr_scheduler.MultiStepLR(optimizer, \n",
    "                    milestones=self.args.lr_milestones, gamma=0.1)\n",
    "        \n",
    "        ae.train()\n",
    "        for epoch in range(self.args.num_epochs_ae):\n",
    "            total_loss = 0\n",
    "            for x, _ in Bar(self.train_loader):\n",
    "                x = x.float().to(self.device)\n",
    "                \n",
    "                optimizer.zero_grad()\n",
    "                x_hat = ae(x)\n",
    "                reconst_loss = torch.mean(torch.sum((x_hat - x) ** 2, dim=tuple(range(1, x_hat.dim()))))\n",
    "                reconst_loss.backward()\n",
    "                optimizer.step()\n",
    "                \n",
    "                total_loss += reconst_loss.item()\n",
    "            scheduler.step()\n",
    "            print('Pretraining Autoencoder... Epoch: {}, Loss: {:.3f}'.format(\n",
    "                   epoch, total_loss/len(self.train_loader)))\n",
    "        self.save_weights_for_DeepSVDD(ae, self.train_loader) \n",
    "    \n",
    "\n",
    "    def save_weights_for_DeepSVDD(self, model, dataloader):\n",
    "        \"\"\"Initialize Deep SVDD weights using the encoder weights of the pretrained autoencoder.\"\"\"\n",
    "        c = self.set_c(model, dataloader)\n",
    "        net = network(self.args.latent_dim).to(self.device)\n",
    "        state_dict = model.state_dict()\n",
    "        net.load_state_dict(state_dict, strict=False)\n",
    "        torch.save({'center': c.cpu().data.numpy().tolist(),\n",
    "                    'net_dict': net.state_dict()}, 'pretrained_parameters.pth')\n",
    "    \n",
    "\n",
    "    def set_c(self, model, dataloader, eps=0.05):\n",
    "        \"\"\"Initializing the center for the hypersphere\"\"\"\n",
    "        model.eval()\n",
    "        z_ = []\n",
    "        with torch.no_grad():\n",
    "            for x, _ in dataloader:\n",
    "                x = x.float().to(self.device)\n",
    "                z = model.encode(x)\n",
    "                z_.append(z.detach())\n",
    "        z_ = torch.cat(z_)\n",
    "        c = torch.mean(z_, dim=0)\n",
    "        c[(abs(c) < eps) & (c < 0)] = -eps\n",
    "        c[(abs(c) < eps) & (c > 0)] = eps\n",
    "        return c\n",
    "\n",
    "\n",
    "    def train(self):\n",
    "        \"\"\"Training the Deep SVDD model\"\"\"\n",
    "        net = network().to(self.device)\n",
    "        \n",
    "        if self.args.pretrain==True:\n",
    "            state_dict = torch.load('pretrained_parameters.pth')\n",
    "            net.load_state_dict(state_dict['net_dict'])\n",
    "            c = torch.Tensor(state_dict['center']).to(self.device)\n",
    "        else:\n",
    "            net.apply(weights_init_normal)\n",
    "            c = torch.randn(self.args.latent_dim).to(self.device)\n",
    "        \n",
    "        optimizer = optim.Adam(net.parameters(), lr=self.args.lr,\n",
    "                               weight_decay=self.args.weight_decay)\n",
    "        scheduler = optim.lr_scheduler.MultiStepLR(optimizer, \n",
    "                    milestones=self.args.lr_milestones, gamma=0.1)\n",
    "\n",
    "        net.train()\n",
    "        for epoch in range(self.args.num_epochs):\n",
    "            total_loss = 0\n",
    "            for x, _ in Bar(self.train_loader):\n",
    "                x = x.float().to(self.device)\n",
    "\n",
    "                optimizer.zero_grad()\n",
    "                z = net(x)\n",
    "                loss = torch.mean(torch.sum((z - c) ** 2, dim=1))\n",
    "                loss.backward()\n",
    "                optimizer.step()\n",
    "\n",
    "                total_loss += loss.item()\n",
    "            scheduler.step()\n",
    "            print('Training Deep SVDD... Epoch: {}, Loss: {:.3f}'.format(\n",
    "                   epoch, total_loss/len(self.train_loader)))\n",
    "        self.net = net\n",
    "        self.c = c"
   ]
  },
  {
   "cell_type": "code",
   "execution_count": 26,
   "id": "5df42d8b",
   "metadata": {},
   "outputs": [],
   "source": [
    "from sklearn.metrics import accuracy_score, precision_score, recall_score, f1_score, roc_auc_score, roc_curve\n",
    "from sklearn.preprocessing import MinMaxScaler\n",
    "\n",
    "def eval(net, c, dataloader, device):\n",
    "    \"\"\"Testing the Deep SVDD model\"\"\"\n",
    "\n",
    "    scores = []\n",
    "    labels = []\n",
    "    predictions = []\n",
    "    net.eval()\n",
    "    print('Testing...')\n",
    "    with torch.no_grad():\n",
    "        for x, y in dataloader:\n",
    "            x = x.float().to(device)\n",
    "            z = net(x)\n",
    "            score = torch.sum((z - c) ** 2, dim=1)\n",
    "\n",
    "            scores.append(score.detach().cpu())\n",
    "            labels.append(y.cpu())\n",
    "\n",
    "    labels, scores = torch.cat(labels).numpy(), torch.cat(scores).numpy()\n",
    "    scaler = MinMaxScaler(feature_range=(0, 1))\n",
    "#     scaler = MinMaxScaler()\n",
    "    scores = scores.reshape(-1,1)\n",
    "    scaler.fit(scores)\n",
    "    norm_scores = scaler.transform(scores)\n",
    "    \n",
    "#     for item in scores:\n",
    "#         item = item - min(scores) / (max(scores)-min(scores))\n",
    "#     scores = norm_list(scores)\n",
    "\n",
    "\n",
    "    for item in norm_scores:\n",
    "        if item>0.2:\n",
    "            predictions.append(1)\n",
    "        else:\n",
    "            predictions.append(0)\n",
    "                \n",
    "    preds = np.asarray(predictions)\n",
    "    \n",
    "    for item in attack_pos:\n",
    "        j = preds[item[0]:item[1]+1]\n",
    "        for element in j:\n",
    "            if element == 1:\n",
    "                preds[item[0]:item[1]+1] = 1\n",
    "                break\n",
    "                    \n",
    "    mod_preds = list(preds)\n",
    "    mod_preds_array = np.asarray(mod_preds)\n",
    "            \n",
    "    print(\"Accuracy Score: {}\".format(accuracy_score(labels, mod_preds)))\n",
    "    print(\"Precision Score: {}\".format(precision_score(labels, mod_preds)))\n",
    "    print(\"Recall Score: {}\".format(recall_score(labels, mod_preds)))\n",
    "    print(\"F1 Score: {}\".format(f1_score(labels, mod_preds)))\n",
    "    print('ROC AUC score: {:.2f}'.format(roc_auc_score(labels, mod_preds)*100))\n",
    "    return labels, scores, norm_scores, mod_preds_array"
   ]
  },
  {
   "cell_type": "code",
   "execution_count": 27,
   "id": "7ddbde5e",
   "metadata": {},
   "outputs": [],
   "source": [
    "class Args:\n",
    "\n",
    "    num_epochs=1\n",
    "    num_epochs_ae=1\n",
    "    patience=50\n",
    "    lr=1e-4\n",
    "    weight_decay=0.5e-6\n",
    "    weight_decay_ae=0.5e-3\n",
    "    lr_ae=1e-4\n",
    "    lr_milestones=[50]\n",
    "#     batch_size=200\n",
    "    pretrain=False\n",
    "    latent_dim=64\n",
    "    normal_class=0\n",
    "    \n",
    "    \n",
    "args = Args()\n",
    "device = torch.device('cuda' if torch.cuda.is_available() else 'cpu')\n",
    "data = (normal_dataloader, attack_dataloader)\n",
    "\n",
    "deep_SVDD = TrainerDeepSVDD(args, data, device)\n",
    "\n",
    "if args.pretrain:\n",
    "    deep_SVDD.pretrain()"
   ]
  },
  {
   "cell_type": "code",
   "execution_count": 28,
   "id": "ccff62c9",
   "metadata": {},
   "outputs": [
    {
     "name": "stdout",
     "output_type": "stream",
     "text": [
      "99354/99354: [===============================>] - ETA 0.1ss\n",
      "Training Deep SVDD... Epoch: 0, Loss: 10.589\n"
     ]
    }
   ],
   "source": [
    "deep_SVDD.train()"
   ]
  },
  {
   "cell_type": "code",
   "execution_count": 29,
   "id": "c7615d83",
   "metadata": {},
   "outputs": [
    {
     "name": "stdout",
     "output_type": "stream",
     "text": [
      "Testing...\n",
      "Accuracy Score: 0.9586899019760385\n",
      "Precision Score: 0.9971102243016375\n",
      "Recall Score: 0.6622189727654908\n",
      "F1 Score: 0.7958701740897358\n",
      "ROC AUC score: 83.10\n"
     ]
    }
   ],
   "source": [
    "#  from test import eval\n",
    "labels, scores, norm_scores, preds = eval(deep_SVDD.net, deep_SVDD.c, data[1], device)"
   ]
  },
  {
   "cell_type": "code",
   "execution_count": 39,
   "id": "84f813b1",
   "metadata": {},
   "outputs": [
    {
     "data": {
      "text/plain": [
       "(2188,)"
      ]
     },
     "execution_count": 39,
     "metadata": {},
     "output_type": "execute_result"
    }
   ],
   "source": [
    "p = np.where(labels==1)\n",
    "p[0].shape"
   ]
  },
  {
   "cell_type": "code",
   "execution_count": 24,
   "id": "399e906b",
   "metadata": {},
   "outputs": [
    {
     "data": {
      "text/plain": [
       "(6403,)"
      ]
     },
     "execution_count": 24,
     "metadata": {},
     "output_type": "execute_result"
    }
   ],
   "source": [
    "q = np.where(norm_scores>0.3)\n",
    "q[0].shape"
   ]
  },
  {
   "cell_type": "code",
   "execution_count": 71,
   "id": "3fa8a6ec",
   "metadata": {},
   "outputs": [
    {
     "data": {
      "text/plain": [
       "array([1.], dtype=float32)"
      ]
     },
     "execution_count": 71,
     "metadata": {},
     "output_type": "execute_result"
    }
   ],
   "source": [
    "max(norm_scores)"
   ]
  },
  {
   "cell_type": "code",
   "execution_count": 57,
   "id": "1bb31dbb",
   "metadata": {},
   "outputs": [
    {
     "data": {
      "text/plain": [
       "array([[38.281487],\n",
       "       [38.259678],\n",
       "       [38.2658  ],\n",
       "       ...,\n",
       "       [38.27997 ],\n",
       "       [38.2875  ],\n",
       "       [38.32311 ]], dtype=float32)"
      ]
     },
     "execution_count": 57,
     "metadata": {},
     "output_type": "execute_result"
    }
   ],
   "source": [
    "scores"
   ]
  },
  {
   "cell_type": "code",
   "execution_count": null,
   "id": "bb37912a",
   "metadata": {},
   "outputs": [],
   "source": []
  }
 ],
 "metadata": {
  "kernelspec": {
   "display_name": "Python 3 (ipykernel)",
   "language": "python",
   "name": "python3"
  },
  "language_info": {
   "codemirror_mode": {
    "name": "ipython",
    "version": 3
   },
   "file_extension": ".py",
   "mimetype": "text/x-python",
   "name": "python",
   "nbconvert_exporter": "python",
   "pygments_lexer": "ipython3",
   "version": "3.10.4"
  }
 },
 "nbformat": 4,
 "nbformat_minor": 5
}
